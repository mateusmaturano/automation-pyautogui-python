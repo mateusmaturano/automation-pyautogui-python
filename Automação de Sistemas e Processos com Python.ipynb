{
 "cells": [
  {
   "cell_type": "markdown",
   "id": "6db83a98",
   "metadata": {},
   "source": [
    "Automação de Sistemas e Processos com Python\n",
    "========================================\n",
    "Desafio:\n",
    "-----------------------------------\n",
    "Todos os dias, o nosso sistema atualiza as vendas do dia anterior. O seu trabalho diário, como analista, é enviar um e-mail para a diretoria, assim que começar a trabalhar, com o faturamento e a quantidade de produtos vendidos no dia anterior\n",
    "\n",
    "E-mail da diretoria: seuemail@gmail.com \n",
    "\n",
    "Para resolver isso, vamos usar o pyautogui, uma biblioteca de automação de comandos do mouse e do teclado"
   ]
  },
  {
   "cell_type": "code",
   "execution_count": 43,
   "id": "1a5ea8a3",
   "metadata": {},
   "outputs": [],
   "source": [
    "#!pip install pyautogui #instalando o pyautogui"
   ]
  },
  {
   "cell_type": "markdown",
   "id": "6f83d7ba",
   "metadata": {},
   "source": [
    "Entrando no repositório e baixando o arquivo de base de dados (XLS)\n",
    "------"
   ]
  },
  {
   "cell_type": "code",
   "execution_count": 44,
   "id": "7301f46d",
   "metadata": {},
   "outputs": [],
   "source": [
    "import pyautogui\n",
    "import pyperclip\n",
    "import time\n",
    "\n",
    "pyautogui.PAUSE = 1\n",
    "\n",
    "#Entrar no site\n",
    "pyautogui.hotkey(\"ctrl\", \"t\") #abrindo uma aba\n",
    "pyperclip.copy(\"https://drive.google.com/drive/folders/149xknr9JvrlEnhNWO49zPcw0PW5icxga?usp=sharing\") #escrevendo o link do repo\n",
    "pyautogui.hotkey(\"ctrl\", \"v\") #colando o link\n",
    "pyautogui.press(\"enter\") #enter para navegar até o site\n",
    "\n",
    "time.sleep(5) #espera\n",
    "\n",
    "#Navegar no site e encontrar a base (entrar na pasta Exportar)\n",
    "pyautogui.click(x=361, y=293, clicks=2) #usando a função para entrar na pasta onde o arquivo está armazenado\n",
    "time.sleep(2)\n",
    "\n",
    "#Download da base de dados\n",
    "pyautogui.click(x=396, y=289) #clicou no arquivo\n",
    "pyautogui.click(x=1720, y=192) #clicou nos 3 pontos\n",
    "pyautogui.click(x=1498, y=589) #fazer download\n",
    "time.sleep(7)"
   ]
  },
  {
   "cell_type": "markdown",
   "id": "5f8866c1",
   "metadata": {},
   "source": [
    "Vamos agora ler o arquivo baixado para pegar os indicadores\n",
    "--\n",
    "* Faturamento\n",
    "* Quantidade de Produtos"
   ]
  },
  {
   "cell_type": "code",
   "execution_count": 45,
   "id": "d18e51bd",
   "metadata": {},
   "outputs": [
    {
     "data": {
      "text/html": [
       "<div>\n",
       "<style scoped>\n",
       "    .dataframe tbody tr th:only-of-type {\n",
       "        vertical-align: middle;\n",
       "    }\n",
       "\n",
       "    .dataframe tbody tr th {\n",
       "        vertical-align: top;\n",
       "    }\n",
       "\n",
       "    .dataframe thead th {\n",
       "        text-align: right;\n",
       "    }\n",
       "</style>\n",
       "<table border=\"1\" class=\"dataframe\">\n",
       "  <thead>\n",
       "    <tr style=\"text-align: right;\">\n",
       "      <th></th>\n",
       "      <th>Código Venda</th>\n",
       "      <th>Data</th>\n",
       "      <th>ID Loja</th>\n",
       "      <th>Produto</th>\n",
       "      <th>Quantidade</th>\n",
       "      <th>Valor Unitário</th>\n",
       "      <th>Valor Final</th>\n",
       "    </tr>\n",
       "  </thead>\n",
       "  <tbody>\n",
       "    <tr>\n",
       "      <th>0</th>\n",
       "      <td>65014</td>\n",
       "      <td>2019-12-01</td>\n",
       "      <td>Shopping Morumbi</td>\n",
       "      <td>Sunga Listrado</td>\n",
       "      <td>5</td>\n",
       "      <td>114</td>\n",
       "      <td>570</td>\n",
       "    </tr>\n",
       "    <tr>\n",
       "      <th>1</th>\n",
       "      <td>65014</td>\n",
       "      <td>2019-12-01</td>\n",
       "      <td>Shopping Morumbi</td>\n",
       "      <td>Casaco Listrado</td>\n",
       "      <td>1</td>\n",
       "      <td>269</td>\n",
       "      <td>269</td>\n",
       "    </tr>\n",
       "    <tr>\n",
       "      <th>2</th>\n",
       "      <td>65016</td>\n",
       "      <td>2019-12-01</td>\n",
       "      <td>Iguatemi Campinas</td>\n",
       "      <td>Sapato Listrado</td>\n",
       "      <td>2</td>\n",
       "      <td>363</td>\n",
       "      <td>726</td>\n",
       "    </tr>\n",
       "    <tr>\n",
       "      <th>3</th>\n",
       "      <td>65016</td>\n",
       "      <td>2019-12-01</td>\n",
       "      <td>Iguatemi Campinas</td>\n",
       "      <td>Casaco</td>\n",
       "      <td>1</td>\n",
       "      <td>250</td>\n",
       "      <td>250</td>\n",
       "    </tr>\n",
       "    <tr>\n",
       "      <th>4</th>\n",
       "      <td>65017</td>\n",
       "      <td>2019-12-01</td>\n",
       "      <td>Shopping SP Market</td>\n",
       "      <td>Gorro Liso</td>\n",
       "      <td>3</td>\n",
       "      <td>92</td>\n",
       "      <td>276</td>\n",
       "    </tr>\n",
       "    <tr>\n",
       "      <th>...</th>\n",
       "      <td>...</td>\n",
       "      <td>...</td>\n",
       "      <td>...</td>\n",
       "      <td>...</td>\n",
       "      <td>...</td>\n",
       "      <td>...</td>\n",
       "      <td>...</td>\n",
       "    </tr>\n",
       "    <tr>\n",
       "      <th>7084</th>\n",
       "      <td>69996</td>\n",
       "      <td>2019-12-26</td>\n",
       "      <td>Center Shopping Uberlândia</td>\n",
       "      <td>Short Listrado</td>\n",
       "      <td>2</td>\n",
       "      <td>102</td>\n",
       "      <td>204</td>\n",
       "    </tr>\n",
       "    <tr>\n",
       "      <th>7085</th>\n",
       "      <td>69996</td>\n",
       "      <td>2019-12-26</td>\n",
       "      <td>Center Shopping Uberlândia</td>\n",
       "      <td>Mochila</td>\n",
       "      <td>4</td>\n",
       "      <td>270</td>\n",
       "      <td>1080</td>\n",
       "    </tr>\n",
       "    <tr>\n",
       "      <th>7086</th>\n",
       "      <td>69996</td>\n",
       "      <td>2019-12-26</td>\n",
       "      <td>Center Shopping Uberlândia</td>\n",
       "      <td>Pulseira Estampa</td>\n",
       "      <td>1</td>\n",
       "      <td>87</td>\n",
       "      <td>87</td>\n",
       "    </tr>\n",
       "    <tr>\n",
       "      <th>7087</th>\n",
       "      <td>69997</td>\n",
       "      <td>2019-12-26</td>\n",
       "      <td>Ribeirão Shopping</td>\n",
       "      <td>Camisa Listrado</td>\n",
       "      <td>1</td>\n",
       "      <td>108</td>\n",
       "      <td>108</td>\n",
       "    </tr>\n",
       "    <tr>\n",
       "      <th>7088</th>\n",
       "      <td>69997</td>\n",
       "      <td>2019-12-26</td>\n",
       "      <td>Ribeirão Shopping</td>\n",
       "      <td>Short Linho</td>\n",
       "      <td>2</td>\n",
       "      <td>133</td>\n",
       "      <td>266</td>\n",
       "    </tr>\n",
       "  </tbody>\n",
       "</table>\n",
       "<p>7089 rows × 7 columns</p>\n",
       "</div>"
      ],
      "text/plain": [
       "      Código Venda       Data                     ID Loja           Produto  \\\n",
       "0            65014 2019-12-01            Shopping Morumbi    Sunga Listrado   \n",
       "1            65014 2019-12-01            Shopping Morumbi   Casaco Listrado   \n",
       "2            65016 2019-12-01           Iguatemi Campinas   Sapato Listrado   \n",
       "3            65016 2019-12-01           Iguatemi Campinas            Casaco   \n",
       "4            65017 2019-12-01          Shopping SP Market        Gorro Liso   \n",
       "...            ...        ...                         ...               ...   \n",
       "7084         69996 2019-12-26  Center Shopping Uberlândia    Short Listrado   \n",
       "7085         69996 2019-12-26  Center Shopping Uberlândia           Mochila   \n",
       "7086         69996 2019-12-26  Center Shopping Uberlândia  Pulseira Estampa   \n",
       "7087         69997 2019-12-26           Ribeirão Shopping   Camisa Listrado   \n",
       "7088         69997 2019-12-26           Ribeirão Shopping       Short Linho   \n",
       "\n",
       "      Quantidade  Valor Unitário  Valor Final  \n",
       "0              5             114          570  \n",
       "1              1             269          269  \n",
       "2              2             363          726  \n",
       "3              1             250          250  \n",
       "4              3              92          276  \n",
       "...          ...             ...          ...  \n",
       "7084           2             102          204  \n",
       "7085           4             270         1080  \n",
       "7086           1              87           87  \n",
       "7087           1             108          108  \n",
       "7088           2             133          266  \n",
       "\n",
       "[7089 rows x 7 columns]"
      ]
     },
     "metadata": {},
     "output_type": "display_data"
    }
   ],
   "source": [
    "#Trazendo a planilha baixada para a automação\n",
    "import pandas as pd\n",
    "\n",
    "tabela = pd.read_excel(r\"D:\\matur\\Downloads\\Vendas - Dez.xlsx\")\n",
    "display(tabela)"
   ]
  },
  {
   "cell_type": "markdown",
   "id": "85b3deb7",
   "metadata": {},
   "source": [
    "Descobrindo a quantidade de itens vendidos e valor de faturamento\n",
    "----"
   ]
  },
  {
   "cell_type": "code",
   "execution_count": 46,
   "id": "d7043c84",
   "metadata": {},
   "outputs": [
    {
     "name": "stdout",
     "output_type": "stream",
     "text": [
      "15227\n",
      "R$ 2917311\n"
     ]
    }
   ],
   "source": [
    "#Soma da coluna quantidade\n",
    "quantidade = tabela[\"Quantidade\"].sum()\n",
    "\n",
    "#Soma da coluna valor final\n",
    "faturamento = tabela[\"Valor Final\"].sum()\n",
    "\n",
    "print(quantidade)\n",
    "print(f'R$', faturamento)"
   ]
  },
  {
   "cell_type": "markdown",
   "id": "c76e73f4",
   "metadata": {},
   "source": [
    "Vamos agora enviar um e-mail pelo gmail\n",
    "----"
   ]
  },
  {
   "cell_type": "code",
   "execution_count": 47,
   "id": "bded84f5",
   "metadata": {},
   "outputs": [],
   "source": [
    "#Enviar e-mail\n",
    "pyautogui.hotkey(\"ctrl\", \"t\") #abrindo uma aba\n",
    "pyperclip.copy(\"https://mail.google.com/mail/u/0/#inbox\") #escrevendo o link do e-mail\n",
    "pyautogui.hotkey(\"ctrl\", \"v\") #colando o link\n",
    "pyautogui.press(\"enter\") #entrando no site\n",
    "time.sleep(3)\n",
    "\n",
    "pyautogui.click(x=80, y=209) #clicando no botão \"+\" de novo e-mail\n",
    "\n",
    "pyautogui.write(\"maturanomateus@hotmail.com\") #escrevendo destinatário\n",
    "pyautogui.press(\"enter\") #enter para definir\n",
    "pyautogui.press(\"tab\") #descendo para o assunto\n",
    "pyperclip.copy(\"Relatório de Vendas\") #escrevendo o assunto\n",
    "pyautogui.hotkey(\"ctrl\", \"v\") #colando o assunto\n",
    "pyautogui.press(\"tab\") #descendo para o corpo do e-mail\n",
    "\n",
    "texto = f\"\"\"Prezados, bom dia. \n",
    "\n",
    "O faturamento de ontem foi de: R${faturamento:,.2f} \n",
    "A quantidade de produtos foi de: {quantidade:,}\n",
    "\n",
    "Atenciosamente, \n",
    "\n",
    "\"\"\"\n",
    "\n",
    "pyperclip.copy(texto) #escrevendo o texto no corpo do e-mail\n",
    "pyautogui.hotkey(\"ctrl\", \"v\") #colando o texto\n",
    "\n",
    "time.sleep(2)\n",
    "pyautogui.hotkey(\"ctrl\", \"enter\") #enviando o e-mail"
   ]
  },
  {
   "cell_type": "markdown",
   "id": "cbfe11ba",
   "metadata": {},
   "source": [
    "Use esse código para descobrir qual a posição de um item que queira clicar\n",
    "--------\n",
    "* Lembre-se: a posição na sua tela é diferente da posição na minha tela"
   ]
  },
  {
   "cell_type": "code",
   "execution_count": 48,
   "id": "58ccea90",
   "metadata": {},
   "outputs": [
    {
     "data": {
      "text/plain": [
       "Point(x=597, y=871)"
      ]
     },
     "execution_count": 48,
     "metadata": {},
     "output_type": "execute_result"
    }
   ],
   "source": [
    "time.sleep(5)\n",
    "pyautogui.position() #localizando a posição com o mouse"
   ]
  },
  {
   "cell_type": "code",
   "execution_count": null,
   "id": "b3efc515",
   "metadata": {},
   "outputs": [],
   "source": []
  }
 ],
 "metadata": {
  "kernelspec": {
   "display_name": "Python 3 (ipykernel)",
   "language": "python",
   "name": "python3"
  },
  "language_info": {
   "codemirror_mode": {
    "name": "ipython",
    "version": 3
   },
   "file_extension": ".py",
   "mimetype": "text/x-python",
   "name": "python",
   "nbconvert_exporter": "python",
   "pygments_lexer": "ipython3",
   "version": "3.9.12"
  }
 },
 "nbformat": 4,
 "nbformat_minor": 5
}
